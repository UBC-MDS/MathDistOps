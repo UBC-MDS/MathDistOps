{
 "cells": [
  {
   "cell_type": "markdown",
   "metadata": {},
   "source": [
    "# Section 3: Usage for Exponential Functions\n",
    "\n",
    "In this section, we demonstrate how to use `pexp` and `qexp` to answer statistical questions related to the exponential distribution, using the `lung` dataset from the `survival` package in R.\n",
    "\n",
    "If you'd like to follow along with this tutorial and perform the analysis on the same dataset, you can download the `lung` dataset from the `survival` package in R by using the following R code. This will allow you to export the dataset to a CSV file, which you can then load into your Python environment.\r\n",
    "\r\n",
    "In your R console or R script, execute the following commands."
   ]
  },
  {
   "cell_type": "code",
   "execution_count": 1,
   "metadata": {},
   "outputs": [],
   "source": [
    "# %%R\n",
    "# install.packages(\"survival\")\n",
    "# library(survival)\n",
    "# df= survival::lung\n",
    "# write.csv(df, file = \"~/lung_dataset.csv\", row.names = FALSE)"
   ]
  }
 ],
 "metadata": {
  "kernelspec": {
   "display_name": "Python [conda env:mathdistops]",
   "language": "python",
   "name": "conda-env-mathdistops-py"
  },
  "language_info": {
   "codemirror_mode": {
    "name": "ipython",
    "version": 3
   },
   "file_extension": ".py",
   "mimetype": "text/x-python",
   "name": "python",
   "nbconvert_exporter": "python",
   "pygments_lexer": "ipython3",
   "version": "3.9.18"
  }
 },
 "nbformat": 4,
 "nbformat_minor": 4
}
