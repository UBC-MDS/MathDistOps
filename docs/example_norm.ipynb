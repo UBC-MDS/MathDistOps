{
 "cells": [
  {
   "cell_type": "markdown",
   "metadata": {},
   "source": [
    "## Pnorm and qnorm Tutorial"
   ]
  },
  {
   "cell_type": "markdown",
   "metadata": {},
   "source": [
    "### Motivation for Normal Functions\n",
    "\n",
    "Distributions serve as indispensable tools for modeling existing data, enabling us to handle uncertainty, quantify variability, and make inferential statements. One of the most prevalent distributions is the Normal Distribution, characterized by its mean \\(μ > 0\\) and standard deviation \\(σ > 0\\). This distribution is frequently employed to model real-world phenomena characterized by data clustering around a central value, proving particularly valuable in describing the distribution of diverse variables such as heights, weights, test scores, and errors in measurements.  \n",
    "\n",
    "To visualize these distributions, Probability Density Function (PDF) and Cumulative Distribution Function (CDF) are commonly employed. The PDF represents the probability distribution of a continuous random variable and for the normal distribution the PDF is bell-shaped. The CDF, derived from the integral of the PDF, provides the probability that a random variable is less than or equal to a specified value.\n",
    "\n",
    "The function pnorm and qnorm yield the cumulative probability for a specified quantile and vice versa. Additionally, these functions generate both the Probability Density Function (PDF) and Cumulative Distribution Function (CDF), providing a visual representation of the cumulative probability associated with a particular quantile. The CDF graph plots the cumulative probability against the specific quantile, while the PDF graph illustrates the cumulative probability up to that quantile through the area under the curve."
   ]
  },
  {
   "cell_type": "markdown",
   "metadata": {},
   "source": [
    "### Usage of pnorm and qnorm\n",
    "\n",
    "Here we will demonstrate how to use `pnorm` and `qnorm` to answer simple statistical questions, via a dataset. "
   ]
  },
  {
   "cell_type": "markdown",
   "metadata": {},
   "source": [
    "Now, let us take a look at our Palmer penguins dataset! The Palmer penguins dataset by Allison Horst, Alison Hill, and Kristen Gorman was made publicly available as an R package. We shall use the dataset to conduct exploratory data analysis and utilize our developed functions. "
   ]
  },
  {
   "cell_type": "code",
   "execution_count": 4,
   "metadata": {},
   "outputs": [
    {
     "data": {
      "text/html": [
       "<div>\n",
       "<style scoped>\n",
       "    .dataframe tbody tr th:only-of-type {\n",
       "        vertical-align: middle;\n",
       "    }\n",
       "\n",
       "    .dataframe tbody tr th {\n",
       "        vertical-align: top;\n",
       "    }\n",
       "\n",
       "    .dataframe thead th {\n",
       "        text-align: right;\n",
       "    }\n",
       "</style>\n",
       "<table border=\"1\" class=\"dataframe\">\n",
       "  <thead>\n",
       "    <tr style=\"text-align: right;\">\n",
       "      <th></th>\n",
       "      <th>species</th>\n",
       "      <th>island</th>\n",
       "      <th>bill_length_mm</th>\n",
       "      <th>bill_depth_mm</th>\n",
       "      <th>flipper_length_mm</th>\n",
       "      <th>body_mass_g</th>\n",
       "      <th>sex</th>\n",
       "      <th>year</th>\n",
       "    </tr>\n",
       "  </thead>\n",
       "  <tbody>\n",
       "    <tr>\n",
       "      <th>0</th>\n",
       "      <td>Adelie</td>\n",
       "      <td>Torgersen</td>\n",
       "      <td>39.1</td>\n",
       "      <td>18.7</td>\n",
       "      <td>181.0</td>\n",
       "      <td>3750.0</td>\n",
       "      <td>male</td>\n",
       "      <td>2007</td>\n",
       "    </tr>\n",
       "    <tr>\n",
       "      <th>1</th>\n",
       "      <td>Adelie</td>\n",
       "      <td>Torgersen</td>\n",
       "      <td>39.5</td>\n",
       "      <td>17.4</td>\n",
       "      <td>186.0</td>\n",
       "      <td>3800.0</td>\n",
       "      <td>female</td>\n",
       "      <td>2007</td>\n",
       "    </tr>\n",
       "    <tr>\n",
       "      <th>2</th>\n",
       "      <td>Adelie</td>\n",
       "      <td>Torgersen</td>\n",
       "      <td>40.3</td>\n",
       "      <td>18.0</td>\n",
       "      <td>195.0</td>\n",
       "      <td>3250.0</td>\n",
       "      <td>female</td>\n",
       "      <td>2007</td>\n",
       "    </tr>\n",
       "    <tr>\n",
       "      <th>3</th>\n",
       "      <td>Adelie</td>\n",
       "      <td>Torgersen</td>\n",
       "      <td>NaN</td>\n",
       "      <td>NaN</td>\n",
       "      <td>NaN</td>\n",
       "      <td>NaN</td>\n",
       "      <td>NaN</td>\n",
       "      <td>2007</td>\n",
       "    </tr>\n",
       "    <tr>\n",
       "      <th>4</th>\n",
       "      <td>Adelie</td>\n",
       "      <td>Torgersen</td>\n",
       "      <td>36.7</td>\n",
       "      <td>19.3</td>\n",
       "      <td>193.0</td>\n",
       "      <td>3450.0</td>\n",
       "      <td>female</td>\n",
       "      <td>2007</td>\n",
       "    </tr>\n",
       "  </tbody>\n",
       "</table>\n",
       "</div>"
      ],
      "text/plain": [
       "  species     island  bill_length_mm  bill_depth_mm  flipper_length_mm  \\\n",
       "0  Adelie  Torgersen            39.1           18.7              181.0   \n",
       "1  Adelie  Torgersen            39.5           17.4              186.0   \n",
       "2  Adelie  Torgersen            40.3           18.0              195.0   \n",
       "3  Adelie  Torgersen             NaN            NaN                NaN   \n",
       "4  Adelie  Torgersen            36.7           19.3              193.0   \n",
       "\n",
       "   body_mass_g     sex  year  \n",
       "0       3750.0    male  2007  \n",
       "1       3800.0  female  2007  \n",
       "2       3250.0  female  2007  \n",
       "3          NaN     NaN  2007  \n",
       "4       3450.0  female  2007  "
      ]
     },
     "execution_count": 4,
     "metadata": {},
     "output_type": "execute_result"
    }
   ],
   "source": [
    "import pandas as pd\n",
    "import matplotlib.pyplot as plt\n",
    "from palmerpenguins import load_penguins\n",
    "\n",
    "penguins = load_penguins()\n",
    "penguins.head()"
   ]
  },
  {
   "cell_type": "markdown",
   "metadata": {},
   "source": [
    "Let us say that we want to answer 2 questions:\n",
    "1. What is the proportion of Adelie penguins that have flipper length longer than 200 mm?\n",
    "2. What is the flipper length above which could be considered in top 5 percentile for Adelie penguins? \n",
    "\n",
    "Now, let us look at the distribution of flipper lengths first for Adelie's penguins first. We can see that it closely resembles normal distribution. "
   ]
  },
  {
   "cell_type": "code",
   "execution_count": 5,
   "metadata": {},
   "outputs": [
    {
     "name": "stdout",
     "output_type": "stream",
     "text": [
      "There are 152 Adelie penguins in our sample\n"
     ]
    },
    {
     "data": {
      "image/png": "[encoded data removed]",
      "text/plain": [
       "<Figure size 640x480 with 1 Axes>"
      ]
     },
     "metadata": {},
     "output_type": "display_data"
    }
   ],
   "source": [
    "adelie_penguins = penguins[penguins['species']=='Adelie'].copy()\n",
    "print(f\"There are {adelie_penguins.shape[0]} Adelie penguins in our sample\")\n",
    "\n",
    "# Create a simple histogram to visualize the distribution\n",
    "plt.hist(adelie_penguins['flipper_length_mm'], bins=20, color='blue', edgecolor='black')\n",
    "plt.title(\"Distribution of Adelie Penguins' Flipper Length (mm)\")\n",
    "plt.xlabel('Flipper Length in mm')\n",
    "plt.ylabel('Frequency')\n",
    "plt.show()"
   ]
  },
  {
   "cell_type": "markdown",
   "metadata": {},
   "source": [
    "The distribution above closely resembles normal distribution. Hence, the self-developed `pnorm` and `qnorm` functions can be used to answer these statistical questions."
   ]
  },
  {
   "cell_type": "code",
   "execution_count": 6,
   "metadata": {},
   "outputs": [
    {
     "name": "stdout",
     "output_type": "stream",
     "text": [
      "    Z-score  Cumulative probability\n",
      "0  0.771678                0.779848\n"
     ]
    },
    {
     "data": {
      "text/html": [
       "\n",
       "<style>\n",
       "  #altair-viz-e324fae974aa4fc1a6d0e4b3e4acfb92.vega-embed {\n",
       "    width: 100%;\n",
       "    display: flex;\n",
       "  }\n",
       "\n",
       "  #altair-viz-e324fae974aa4fc1a6d0e4b3e4acfb92.vega-embed details,\n",
       "  #altair-viz-e324fae974aa4fc1a6d0e4b3e4acfb92.vega-embed details summary {\n",
       "    position: relative;\n",
       "  }\n",
       "</style>\n",
       "<div id=\"altair-viz-e324fae974aa4fc1a6d0e4b3e4acfb92\"></div>\n",
       "<script type=\"text/javascript\">\n",
       "  var VEGA_DEBUG = (typeof VEGA_DEBUG == \"undefined\") ? {} : VEGA_DEBUG;\n",
       "  (function(spec, embedOpt){\n",
       "    let outputDiv = document.currentScript.previousElementSibling;\n",
       "    if (outputDiv.id !== \"altair-viz-e324fae974aa4fc1a6d0e4b3e4acfb92\") {\n",
       "      outputDiv = document.getElementById(\"altair-viz-e324fae974aa4fc1a6d0e4b3e4acfb92\");\n",
       "    }\n",
       "    const paths = {\n",
       "      \"vega\": \"https://cdn.jsdelivr.net/npm/vega@5?noext\",\n",
       "      \"vega-lib\": \"https://cdn.jsdelivr.net/npm/vega-lib?noext\",\n",
       "      \"vega-lite\": \"https://cdn.jsdelivr.net/npm/vega-lite@5.16.3?noext\",\n",
       "      \"vega-embed\": \"https://cdn.jsdelivr.net/npm/vega-embed@6?noext\",\n",
       "    };\n",
       "\n",
       "    function maybeLoadScript(lib, version) {\n",
       "      var key = `${lib.replace(\"-\", \"\")}_version`;\n",
       "      return (VEGA_DEBUG[key] == version) ?\n",
       "        Promise.resolve(paths[lib]) :\n",
       "        new Promise(function(resolve, reject) {\n",
       "          var s = document.createElement('script');\n",
       "          document.getElementsByTagName(\"head\")[0].appendChild(s);\n",
       "          s.async = true;\n",
       "          s.onload = () => {\n",
       "            VEGA_DEBUG[key] = version;\n",
       "            return resolve(paths[lib]);\n",
       "          };\n",
       "          s.onerror = () => reject(`Error loading script: ${paths[lib]}`);\n",
       "          s.src = paths[lib];\n",
       "        });\n",
       "    }\n",
       "\n",
       "    function showError(err) {\n",
       "      outputDiv.innerHTML = `<div class=\"error\" style=\"color:red;\">${err}</div>`;\n",
       "      throw err;\n",
       "    }\n",
       "\n",
       "    function displayChart(vegaEmbed) {\n",
       "      vegaEmbed(outputDiv, spec, embedOpt)\n",
       "        .catch(err => showError(`Javascript Error: ${err.message}<br>This usually means there's a typo in your chart specification. See the javascript console for the full traceback.`));\n",
       "    }\n",
       "\n",
       "    if(typeof define === \"function\" && define.amd) {\n",
       "      requirejs.config({paths});\n",
       "      require([\"vega-embed\"], displayChart, err => showError(`Error loading script: ${err.message}`));\n",
       "    } else {\n",
       "      maybeLoadScript(\"vega\", \"5\")\n",
       "        .then(() => maybeLoadScript(\"vega-lite\", \"5.16.3\"))\n",
       "        .then(() => maybeLoadScript(\"vega-embed\", \"6\"))\n",
       "        .catch(showError)\n",
       "        .then(() => displayChart(vegaEmbed));\n",
       "    }\n",
       "  })({\"config\": {\"view\": {\"continuousWidth\": 300, \"continuousHeight\": 300}}, \"hconcat\": [{\"layer\": [{\"mark\": {\"type\": \"area\", \"color\": \"lightblue\", \"opacity\": 0.3}, \"encoding\": {\"x\": {\"field\": \"x\", \"title\": \"X\", \"type\": \"quantitative\"}, \"y\": {\"field\": \"pdf\", \"title\": \"f(X)\", \"type\": \"quantitative\"}}, \"title\": \"Probability Density Function for q = 195, mean = 190, sd = 6.539\", \"transform\": [{\"filter\": \"(datum.x <= 195)\"}]}, {\"mark\": {\"type\": \"line\"}, \"encoding\": {\"x\": {\"field\": \"x\", \"type\": \"quantitative\"}, \"y\": {\"field\": \"pdf\", \"type\": \"quantitative\"}}}, {\"data\": {\"name\": \"data-d9ed776fc03315ffa31e1797142d7c8c\"}, \"mark\": {\"type\": \"rule\", \"strokeDash\": [3, 3]}, \"encoding\": {\"x\": {\"field\": \"z\", \"type\": \"quantitative\"}}}], \"data\": {\"name\": \"data-468706477578b9069dc521f455a267be\"}}, {\"layer\": [{\"data\": {\"name\": \"data-468706477578b9069dc521f455a267be\"}, \"mark\": {\"type\": \"line\"}, \"encoding\": {\"color\": {\"value\": \"orange\"}, \"opacity\": {\"value\": 0.5}, \"x\": {\"field\": \"x\", \"title\": \"x\", \"type\": \"quantitative\"}, \"y\": {\"field\": \"cdf\", \"title\": \"probability\", \"type\": \"quantitative\"}}, \"title\": \"Cumulative Distribution Chart for q = 195, mean = 190, sd = 6.539\"}, {\"data\": {\"name\": \"data-d9ed776fc03315ffa31e1797142d7c8c\"}, \"mark\": {\"type\": \"rule\", \"strokeDash\": [3, 3]}, \"encoding\": {\"x\": {\"field\": \"z\", \"type\": \"quantitative\"}}}, {\"data\": {\"name\": \"data-12fd750cd1423e3f84559968ec1945f9\"}, \"mark\": {\"type\": \"rule\", \"strokeDash\": [3, 3]}, \"encoding\": {\"y\": {\"field\": \"p\", \"type\": \"quantitative\"}}}], \"height\": 300, \"width\": 300}], \"$schema\": \"https://vega.github.io/schema/vega-lite/v5.16.3.json\", \"datasets\": {\"data-468706477578b9069dc521f455a267be\": [{\"x\": 170.33527013253206, \"pdf\": 0.0006777088876345142, \"cdf\": 0.001349898031630088, \"q\": 195}, {\"x\": 170.7316008850891, \"pdf\": 0.0008113499464557143, \"cdf\": 0.0016442740007662792, \"q\": 195}, {\"x\": 171.12793163764616, \"pdf\": 0.0009677831087247854, \"cdf\": 0.001996033728558249, \"q\": 195}, {\"x\": 171.5242623902032, \"pdf\": 0.0011501451678447834, \"cdf\": 0.0024148226279699612, \"q\": 195}, {\"x\": 171.92059314276025, \"pdf\": 0.0013618587820457236, \"cdf\": 0.002911585911906103, \"q\": 195}, {\"x\": 172.3169238953173, \"pdf\": 0.0016066315371257092, \"cdf\": 0.003498681882947553, \"q\": 195}, {\"x\": 172.71325464787435, \"pdf\": 0.0018884491485572153, \"cdf\": 0.0041899937205068126, \"q\": 195}, {\"x\": 173.1095854004314, \"pdf\": 0.0022115618888525097, \"cdf\": 0.005001037261248028, \"q\": 195}, {\"x\": 173.50591615298845, \"pdf\": 0.002580463348879785, \"cdf\": 0.005949061909843507, \"q\": 195}, {\"x\": 173.9022469055455, \"pdf\": 0.0029998606970321213, \"cdf\": 0.007053141473689754, \"q\": 195}, {\"x\": 174.29857765810254, \"pdf\": 0.0034746356915425244, \"cdf\": 0.008334251400695662, \"q\": 195}, {\"x\": 174.6949084106596, \"pdf\": 0.004009795831803392, \"cdf\": 0.00981532862864531, \"q\": 195}, {\"x\": 175.09123916321664, \"pdf\": 0.004610415206243497, \"cdf\": 0.01152131004388089, \"q\": 195}, {\"x\": 175.4875699157737, \"pdf\": 0.005281564807797898, \"cdf\": 0.013479145412625043, \"q\": 195}, {\"x\": 175.88390066833074, \"pdf\": 0.006028232342395117, \"cdf\": 0.01571778060660844, \"q\": 195}, {\"x\": 176.2802314208878, \"pdf\": 0.00685523184855403, \"cdf\": 0.018268107011540607, \"q\": 195}, {\"x\": 176.67656217344484, \"pdf\": 0.007767103772596999, \"cdf\": 0.021162873196696116, \"q\": 195}, {\"x\": 177.07289292600188, \"pdf\": 0.00876800649761545, \"cdf\": 0.02443655524863419, \"q\": 195}, {\"x\": 177.46922367855893, \"pdf\": 0.00986160069662645, \"cdf\": 0.02812518264098337, \"q\": 195}, {\"x\": 177.86555443111598, \"pdf\": 0.011050928260860422, \"cdf\": 0.03226611713069441, \"q\": 195}, {\"x\": 178.26188518367303, \"pdf\": 0.01233828793059381, \"cdf\": 0.03689778294006985, \"q\": 195}, {\"x\": 178.65821593623008, \"pdf\": 0.013725110114697242, \"cdf\": 0.0420593473989567, \"q\": 195}, {\"x\": 179.05454668878713, \"pdf\": 0.015211833711346968, \"cdf\": 0.04779035227281461, \"q\": 195}, {\"x\": 179.45087744134418, \"pdf\": 0.016797788020806472, \"cdf\": 0.054130297174047194, \"q\": 195}, {\"x\": 179.84720819390122, \"pdf\": 0.018481083056491047, \"cdf\": 0.06111817772400582, \"q\": 195}, {\"x\": 180.24353894645827, \"pdf\": 0.020258511698001684, \"cdf\": 0.06879198247347316, \"q\": 195}, {\"x\": 180.63986969901532, \"pdf\": 0.022125467176127935, \"cdf\": 0.07718815396666101, \"q\": 195}, {\"x\": 181.03620045157237, \"pdf\": 0.024075879323710855, \"cdf\": 0.08634102070937416, \"q\": 195}, {\"x\": 181.43253120412942, \"pdf\": 0.026102172859221878, \"cdf\": 0.09628220813361948, \"q\": 195}, {\"x\": 181.82886195668647, \"pdf\": 0.028195250686845735, \"cdf\": 0.10704003789347638, \"q\": 195}, {\"x\": 182.22519270924352, \"pdf\": 0.030344504796594236, \"cdf\": 0.11863892593413905, \"q\": 195}, {\"x\": 182.62152346180056, \"pdf\": 0.03253785683372616, \"cdf\": 0.13109879070172975, \"q\": 195}, {\"x\": 183.0178542143576, \"pdf\": 0.03476182978633057, \"cdf\": 0.14443448356198252, \"q\": 195}, {\"x\": 183.41418496691466, \"pdf\": 0.03700165152586465, \"cdf\": 0.15865525393145696, \"q\": 195}, {\"x\": 183.8105157194717, \"pdf\": 0.03924139014478993, \"cdf\": 0.17376426176168686, \"q\": 195}, {\"x\": 184.20684647202876, \"pdf\": 0.04146412018949095, \"cdf\": 0.18975814982832473, \"q\": 195}, {\"x\": 184.6031772245858, \"pdf\": 0.04365211801027535, \"cdf\": 0.20662668774682014, \"q\": 195}, {\"x\": 184.99950797714285, \"pdf\": 0.04578708357117828, \"cdf\": 0.22435249875681756, \"q\": 195}, {\"x\": 185.3958387296999, \"pdf\": 0.04785038521014135, \"cdf\": 0.24291087909404424, \"q\": 195}, {\"x\": 185.79216948225695, \"pdf\": 0.04982332304529767, \"cdf\": 0.26226971821765643, \"q\": 195}, {\"x\": 186.188500234814, \"pdf\": 0.051687406015527, \"cdf\": 0.28238952631152425, \"q\": 195}, {\"x\": 186.58483098737105, \"pdf\": 0.05342463695141061, \"cdf\": 0.3032235733700105, \"q\": 195}, {\"x\": 186.9811617399281, \"pdf\": 0.05501779962153984, \"cdf\": 0.3247181418633772, \"q\": 195}, {\"x\": 187.37749249248515, \"pdf\": 0.056450741410019115, \"cdf\": 0.3468128925152081, \"q\": 195}, {\"x\": 187.7738232450422, \"pdf\": 0.05770864516999632, \"cdf\": 0.36944134018176356, \"q\": 195}, {\"x\": 188.17015399759924, \"pdf\": 0.05877828387517043, \"cdf\": 0.3925314342737797, \"q\": 195}, {\"x\": 188.5664847501563, \"pdf\": 0.05964825195984239, \"cdf\": 0.4160062356803203, \"q\": 195}, {\"x\": 188.96281550271334, \"pdf\": 0.06030916769457448, \"cdf\": 0.43978467981733405, \"q\": 195}, {\"x\": 189.3591462552704, \"pdf\": 0.060753841578248424, \"cdf\": 0.4637824133031056, \"q\": 195}, {\"x\": 189.75547700782744, \"pdf\": 0.06097740652083169, \"cdf\": 0.48791268992585507, \"q\": 195}, {\"x\": 190.1518077603845, \"pdf\": 0.06097740652083169, \"cdf\": 0.512087310074145, \"q\": 195}, {\"x\": 190.54813851294153, \"pdf\": 0.060753841578248424, \"cdf\": 0.5362175866968945, \"q\": 195}, {\"x\": 190.94446926549858, \"pdf\": 0.06030916769457448, \"cdf\": 0.560215320182666, \"q\": 195}, {\"x\": 191.34080001805563, \"pdf\": 0.05964825195984239, \"cdf\": 0.5839937643196796, \"q\": 195}, {\"x\": 191.73713077061268, \"pdf\": 0.05877828387517043, \"cdf\": 0.6074685657262203, \"q\": 195}, {\"x\": 192.13346152316973, \"pdf\": 0.05770864516999632, \"cdf\": 0.6305586598182364, \"q\": 195}, {\"x\": 192.52979227572678, \"pdf\": 0.056450741410019115, \"cdf\": 0.6531871074847919, \"q\": 195}, {\"x\": 192.92612302828383, \"pdf\": 0.05501779962153984, \"cdf\": 0.6752818581366228, \"q\": 195}, {\"x\": 193.32245378084087, \"pdf\": 0.05342463695141061, \"cdf\": 0.6967764266299895, \"q\": 195}, {\"x\": 193.71878453339792, \"pdf\": 0.051687406015527, \"cdf\": 0.7176104736884757, \"q\": 195}, {\"x\": 194.11511528595497, \"pdf\": 0.04982332304529767, \"cdf\": 0.7377302817823436, \"q\": 195}, {\"x\": 194.51144603851202, \"pdf\": 0.04785038521014135, \"cdf\": 0.7570891209059558, \"q\": 195}, {\"x\": 194.90777679106907, \"pdf\": 0.04578708357117828, \"cdf\": 0.7756475012431825, \"q\": 195}, {\"x\": 195.30410754362612, \"pdf\": 0.04365211801027535, \"cdf\": 0.7933733122531799, \"q\": 195}, {\"x\": 195.70043829618317, \"pdf\": 0.04146412018949095, \"cdf\": 0.8102418501716753, \"q\": 195}, {\"x\": 196.0967690487402, \"pdf\": 0.03924139014478993, \"cdf\": 0.8262357382383132, \"q\": 195}, {\"x\": 196.49309980129726, \"pdf\": 0.03700165152586465, \"cdf\": 0.841344746068543, \"q\": 195}, {\"x\": 196.8894305538543, \"pdf\": 0.03476182978633057, \"cdf\": 0.8555655164380175, \"q\": 195}, {\"x\": 197.28576130641136, \"pdf\": 0.03253785683372616, \"cdf\": 0.8689012092982702, \"q\": 195}, {\"x\": 197.6820920589684, \"pdf\": 0.030344504796594236, \"cdf\": 0.881361074065861, \"q\": 195}, {\"x\": 198.07842281152546, \"pdf\": 0.028195250686845735, \"cdf\": 0.8929599621065236, \"q\": 195}, {\"x\": 198.4747535640825, \"pdf\": 0.026102172859221878, \"cdf\": 0.9037177918663806, \"q\": 195}, {\"x\": 198.87108431663955, \"pdf\": 0.024075879323710855, \"cdf\": 0.9136589792906258, \"q\": 195}, {\"x\": 199.2674150691966, \"pdf\": 0.022125467176127935, \"cdf\": 0.922811846033339, \"q\": 195}, {\"x\": 199.66374582175365, \"pdf\": 0.020258511698001684, \"cdf\": 0.9312080175265268, \"q\": 195}, {\"x\": 200.0600765743107, \"pdf\": 0.018481083056491047, \"cdf\": 0.9388818222759941, \"q\": 195}, {\"x\": 200.45640732686775, \"pdf\": 0.016797788020806472, \"cdf\": 0.9458697028259528, \"q\": 195}, {\"x\": 200.8527380794248, \"pdf\": 0.015211833711346968, \"cdf\": 0.9522096477271854, \"q\": 195}, {\"x\": 201.24906883198184, \"pdf\": 0.013725110114697242, \"cdf\": 0.9579406526010433, \"q\": 195}, {\"x\": 201.6453995845389, \"pdf\": 0.01233828793059381, \"cdf\": 0.9631022170599302, \"q\": 195}, {\"x\": 202.04173033709594, \"pdf\": 0.011050928260860422, \"cdf\": 0.9677338828693056, \"q\": 195}, {\"x\": 202.438061089653, \"pdf\": 0.00986160069662645, \"cdf\": 0.9718748173590166, \"q\": 195}, {\"x\": 202.83439184221004, \"pdf\": 0.00876800649761545, \"cdf\": 0.9755634447513658, \"q\": 195}, {\"x\": 203.2307225947671, \"pdf\": 0.007767103772596999, \"cdf\": 0.9788371268033039, \"q\": 195}, {\"x\": 203.62705334732414, \"pdf\": 0.00685523184855403, \"cdf\": 0.9817318929884594, \"q\": 195}, {\"x\": 204.02338409988118, \"pdf\": 0.006028232342395117, \"cdf\": 0.9842822193933916, \"q\": 195}, {\"x\": 204.41971485243823, \"pdf\": 0.005281564807797898, \"cdf\": 0.9865208545873749, \"q\": 195}, {\"x\": 204.81604560499528, \"pdf\": 0.004610415206243497, \"cdf\": 0.9884786899561191, \"q\": 195}, {\"x\": 205.21237635755233, \"pdf\": 0.004009795831803392, \"cdf\": 0.9901846713713547, \"q\": 195}, {\"x\": 205.60870711010938, \"pdf\": 0.0034746356915425244, \"cdf\": 0.9916657485993043, \"q\": 195}, {\"x\": 206.00503786266643, \"pdf\": 0.0029998606970321213, \"cdf\": 0.9929468585263103, \"q\": 195}, {\"x\": 206.40136861522348, \"pdf\": 0.002580463348879785, \"cdf\": 0.9940509380901565, \"q\": 195}, {\"x\": 206.79769936778052, \"pdf\": 0.0022115618888525097, \"cdf\": 0.994998962738752, \"q\": 195}, {\"x\": 207.19403012033757, \"pdf\": 0.0018884491485572153, \"cdf\": 0.9958100062794932, \"q\": 195}, {\"x\": 207.59036087289462, \"pdf\": 0.0016066315371257092, \"cdf\": 0.9965013181170524, \"q\": 195}, {\"x\": 207.98669162545167, \"pdf\": 0.0013618587820457236, \"cdf\": 0.9970884140880939, \"q\": 195}, {\"x\": 208.38302237800872, \"pdf\": 0.0011501451678447834, \"cdf\": 0.99758517737203, \"q\": 195}, {\"x\": 208.77935313056577, \"pdf\": 0.0009677831087247854, \"cdf\": 0.9980039662714417, \"q\": 195}, {\"x\": 209.17568388312282, \"pdf\": 0.0008113499464557143, \"cdf\": 0.9983557259992337, \"q\": 195}, {\"x\": 209.57201463567986, \"pdf\": 0.0006777088876345142, \"cdf\": 0.9986501019683699, \"q\": 195}], \"data-d9ed776fc03315ffa31e1797142d7c8c\": [{\"z\": 195}], \"data-12fd750cd1423e3f84559968ec1945f9\": [{\"p\": 0.7798475174710017}]}}, {\"mode\": \"vega-lite\"});\n",
       "</script>"
      ],
      "text/plain": [
       "alt.HConcatChart(...)"
      ]
     },
     "execution_count": 6,
     "metadata": {},
     "output_type": "execute_result"
    }
   ],
   "source": [
    "from mathdistops import pnorm\n",
    "df, fig = pnorm(195, mean=adelie_penguins['flipper_length_mm'].mean(),\n",
    "                 std_dev=adelie_penguins['flipper_length_mm'].std())\n",
    "print(df)\n",
    "fig"
   ]
  },
  {
   "cell_type": "markdown",
   "metadata": {},
   "source": [
    "Question 1: What is the proportion of Adelie penguins that have flipper length longer than 195 mm?\n",
    "\n",
    "Answer: The proportion would be `1-0.78 = 0.22`.\n",
    "\n",
    "The two charts (PDF/ CDF) helps to visualize our understanding. The quantile (X) at 195 is shown as a vertical dotted line on each chart. To the right, the CDF chart shows that the corresponding point where the vertical line intersects with the cumulative distribution curve has a cumulative probability value of 0.78."
   ]
  },
  {
   "cell_type": "code",
   "execution_count": 7,
   "metadata": {},
   "outputs": [
    {
     "name": "stdout",
     "output_type": "stream",
     "text": [
      "     Quantile\n",
      "0  200.710093\n"
     ]
    },
    {
     "data": {
      "text/html": [
       "\n",
       "<style>\n",
       "  #altair-viz-314a738497794820aad0b328a014944b.vega-embed {\n",
       "    width: 100%;\n",
       "    display: flex;\n",
       "  }\n",
       "\n",
       "  #altair-viz-314a738497794820aad0b328a014944b.vega-embed details,\n",
       "  #altair-viz-314a738497794820aad0b328a014944b.vega-embed details summary {\n",
       "    position: relative;\n",
       "  }\n",
       "</style>\n",
       "<div id=\"altair-viz-314a738497794820aad0b328a014944b\"></div>\n",
       "<script type=\"text/javascript\">\n",
       "  var VEGA_DEBUG = (typeof VEGA_DEBUG == \"undefined\") ? {} : VEGA_DEBUG;\n",
       "  (function(spec, embedOpt){\n",
       "    let outputDiv = document.currentScript.previousElementSibling;\n",
       "    if (outputDiv.id !== \"altair-viz-314a738497794820aad0b328a014944b\") {\n",
       "      outputDiv = document.getElementById(\"altair-viz-314a738497794820aad0b328a014944b\");\n",
       "    }\n",
       "    const paths = {\n",
       "      \"vega\": \"https://cdn.jsdelivr.net/npm/vega@5?noext\",\n",
       "      \"vega-lib\": \"https://cdn.jsdelivr.net/npm/vega-lib?noext\",\n",
       "      \"vega-lite\": \"https://cdn.jsdelivr.net/npm/vega-lite@5.16.3?noext\",\n",
       "      \"vega-embed\": \"https://cdn.jsdelivr.net/npm/vega-embed@6?noext\",\n",
       "    };\n",
       "\n",
       "    function maybeLoadScript(lib, version) {\n",
       "      var key = `${lib.replace(\"-\", \"\")}_version`;\n",
       "      return (VEGA_DEBUG[key] == version) ?\n",
       "        Promise.resolve(paths[lib]) :\n",
       "        new Promise(function(resolve, reject) {\n",
       "          var s = document.createElement('script');\n",
       "          document.getElementsByTagName(\"head\")[0].appendChild(s);\n",
       "          s.async = true;\n",
       "          s.onload = () => {\n",
       "            VEGA_DEBUG[key] = version;\n",
       "            return resolve(paths[lib]);\n",
       "          };\n",
       "          s.onerror = () => reject(`Error loading script: ${paths[lib]}`);\n",
       "          s.src = paths[lib];\n",
       "        });\n",
       "    }\n",
       "\n",
       "    function showError(err) {\n",
       "      outputDiv.innerHTML = `<div class=\"error\" style=\"color:red;\">${err}</div>`;\n",
       "      throw err;\n",
       "    }\n",
       "\n",
       "    function displayChart(vegaEmbed) {\n",
       "      vegaEmbed(outputDiv, spec, embedOpt)\n",
       "        .catch(err => showError(`Javascript Error: ${err.message}<br>This usually means there's a typo in your chart specification. See the javascript console for the full traceback.`));\n",
       "    }\n",
       "\n",
       "    if(typeof define === \"function\" && define.amd) {\n",
       "      requirejs.config({paths});\n",
       "      require([\"vega-embed\"], displayChart, err => showError(`Error loading script: ${err.message}`));\n",
       "    } else {\n",
       "      maybeLoadScript(\"vega\", \"5\")\n",
       "        .then(() => maybeLoadScript(\"vega-lite\", \"5.16.3\"))\n",
       "        .then(() => maybeLoadScript(\"vega-embed\", \"6\"))\n",
       "        .catch(showError)\n",
       "        .then(() => displayChart(vegaEmbed));\n",
       "    }\n",
       "  })({\"config\": {\"view\": {\"continuousWidth\": 300, \"continuousHeight\": 300}}, \"hconcat\": [{\"layer\": [{\"mark\": {\"type\": \"area\", \"color\": \"lightblue\", \"opacity\": 0.3}, \"encoding\": {\"x\": {\"field\": \"x\", \"title\": \"X\", \"type\": \"quantitative\"}, \"y\": {\"field\": \"pdf\", \"title\": \"f(X)\", \"type\": \"quantitative\"}}, \"title\": \"Probability Density Function for p = 0.95, mean = 190, sd = 6.539\", \"transform\": [{\"filter\": \"(datum.x <= 200.71009263506778)\"}]}, {\"mark\": {\"type\": \"line\"}, \"encoding\": {\"x\": {\"field\": \"x\", \"type\": \"quantitative\"}, \"y\": {\"field\": \"pdf\", \"type\": \"quantitative\"}}}, {\"data\": {\"name\": \"data-b42bb1d8e41d48a62860433f9e4de70c\"}, \"mark\": {\"type\": \"rule\", \"strokeDash\": [3, 3]}, \"encoding\": {\"x\": {\"field\": \"z\", \"type\": \"quantitative\"}}}], \"data\": {\"name\": \"data-b91b86a78d428802dcafc3f9d9d8ebd7\"}}, {\"layer\": [{\"data\": {\"name\": \"data-b91b86a78d428802dcafc3f9d9d8ebd7\"}, \"mark\": {\"type\": \"line\"}, \"encoding\": {\"color\": {\"value\": \"orange\"}, \"opacity\": {\"value\": 0.5}, \"x\": {\"field\": \"x\", \"title\": \"x\", \"type\": \"quantitative\"}, \"y\": {\"field\": \"cdf\", \"title\": \"probability\", \"type\": \"quantitative\"}}, \"title\": \"Cumulative Distribution Chart for p = 0.95, mean = 190, sd = 6.539\"}, {\"data\": {\"name\": \"data-b42bb1d8e41d48a62860433f9e4de70c\"}, \"mark\": {\"type\": \"rule\", \"strokeDash\": [3, 3]}, \"encoding\": {\"x\": {\"field\": \"z\", \"type\": \"quantitative\"}}}, {\"data\": {\"name\": \"data-aca0edaae1626b36a44a22618509a99c\"}, \"mark\": {\"type\": \"rule\", \"strokeDash\": [3, 3]}, \"encoding\": {\"y\": {\"field\": \"p\", \"type\": \"quantitative\"}}}], \"height\": 300, \"width\": 300}], \"$schema\": \"https://vega.github.io/schema/vega-lite/v5.16.3.json\", \"datasets\": {\"data-b91b86a78d428802dcafc3f9d9d8ebd7\": [{\"x\": 170.33527013253206, \"pdf\": 0.0006777088876345142, \"cdf\": 0.001349898031630088, \"q\": 200.71009263506778}, {\"x\": 170.7316008850891, \"pdf\": 0.0008113499464557143, \"cdf\": 0.0016442740007662792, \"q\": 200.71009263506778}, {\"x\": 171.12793163764616, \"pdf\": 0.0009677831087247854, \"cdf\": 0.001996033728558249, \"q\": 200.71009263506778}, {\"x\": 171.5242623902032, \"pdf\": 0.0011501451678447834, \"cdf\": 0.0024148226279699612, \"q\": 200.71009263506778}, {\"x\": 171.92059314276025, \"pdf\": 0.0013618587820457236, \"cdf\": 0.002911585911906103, \"q\": 200.71009263506778}, {\"x\": 172.3169238953173, \"pdf\": 0.0016066315371257092, \"cdf\": 0.003498681882947553, \"q\": 200.71009263506778}, {\"x\": 172.71325464787435, \"pdf\": 0.0018884491485572153, \"cdf\": 0.0041899937205068126, \"q\": 200.71009263506778}, {\"x\": 173.1095854004314, \"pdf\": 0.0022115618888525097, \"cdf\": 0.005001037261248028, \"q\": 200.71009263506778}, {\"x\": 173.50591615298845, \"pdf\": 0.002580463348879785, \"cdf\": 0.005949061909843507, \"q\": 200.71009263506778}, {\"x\": 173.9022469055455, \"pdf\": 0.0029998606970321213, \"cdf\": 0.007053141473689754, \"q\": 200.71009263506778}, {\"x\": 174.29857765810254, \"pdf\": 0.0034746356915425244, \"cdf\": 0.008334251400695662, \"q\": 200.71009263506778}, {\"x\": 174.6949084106596, \"pdf\": 0.004009795831803392, \"cdf\": 0.00981532862864531, \"q\": 200.71009263506778}, {\"x\": 175.09123916321664, \"pdf\": 0.004610415206243497, \"cdf\": 0.01152131004388089, \"q\": 200.71009263506778}, {\"x\": 175.4875699157737, \"pdf\": 0.005281564807797898, \"cdf\": 0.013479145412625043, \"q\": 200.71009263506778}, {\"x\": 175.88390066833074, \"pdf\": 0.006028232342395117, \"cdf\": 0.01571778060660844, \"q\": 200.71009263506778}, {\"x\": 176.2802314208878, \"pdf\": 0.00685523184855403, \"cdf\": 0.018268107011540607, \"q\": 200.71009263506778}, {\"x\": 176.67656217344484, \"pdf\": 0.007767103772596999, \"cdf\": 0.021162873196696116, \"q\": 200.71009263506778}, {\"x\": 177.07289292600188, \"pdf\": 0.00876800649761545, \"cdf\": 0.02443655524863419, \"q\": 200.71009263506778}, {\"x\": 177.46922367855893, \"pdf\": 0.00986160069662645, \"cdf\": 0.02812518264098337, \"q\": 200.71009263506778}, {\"x\": 177.86555443111598, \"pdf\": 0.011050928260860422, \"cdf\": 0.03226611713069441, \"q\": 200.71009263506778}, {\"x\": 178.26188518367303, \"pdf\": 0.01233828793059381, \"cdf\": 0.03689778294006985, \"q\": 200.71009263506778}, {\"x\": 178.65821593623008, \"pdf\": 0.013725110114697242, \"cdf\": 0.0420593473989567, \"q\": 200.71009263506778}, {\"x\": 179.05454668878713, \"pdf\": 0.015211833711346968, \"cdf\": 0.04779035227281461, \"q\": 200.71009263506778}, {\"x\": 179.45087744134418, \"pdf\": 0.016797788020806472, \"cdf\": 0.054130297174047194, \"q\": 200.71009263506778}, {\"x\": 179.84720819390122, \"pdf\": 0.018481083056491047, \"cdf\": 0.06111817772400582, \"q\": 200.71009263506778}, {\"x\": 180.24353894645827, \"pdf\": 0.020258511698001684, \"cdf\": 0.06879198247347316, \"q\": 200.71009263506778}, {\"x\": 180.63986969901532, \"pdf\": 0.022125467176127935, \"cdf\": 0.07718815396666101, \"q\": 200.71009263506778}, {\"x\": 181.03620045157237, \"pdf\": 0.024075879323710855, \"cdf\": 0.08634102070937416, \"q\": 200.71009263506778}, {\"x\": 181.43253120412942, \"pdf\": 0.026102172859221878, \"cdf\": 0.09628220813361948, \"q\": 200.71009263506778}, {\"x\": 181.82886195668647, \"pdf\": 0.028195250686845735, \"cdf\": 0.10704003789347638, \"q\": 200.71009263506778}, {\"x\": 182.22519270924352, \"pdf\": 0.030344504796594236, \"cdf\": 0.11863892593413905, \"q\": 200.71009263506778}, {\"x\": 182.62152346180056, \"pdf\": 0.03253785683372616, \"cdf\": 0.13109879070172975, \"q\": 200.71009263506778}, {\"x\": 183.0178542143576, \"pdf\": 0.03476182978633057, \"cdf\": 0.14443448356198252, \"q\": 200.71009263506778}, {\"x\": 183.41418496691466, \"pdf\": 0.03700165152586465, \"cdf\": 0.15865525393145696, \"q\": 200.71009263506778}, {\"x\": 183.8105157194717, \"pdf\": 0.03924139014478993, \"cdf\": 0.17376426176168686, \"q\": 200.71009263506778}, {\"x\": 184.20684647202876, \"pdf\": 0.04146412018949095, \"cdf\": 0.18975814982832473, \"q\": 200.71009263506778}, {\"x\": 184.6031772245858, \"pdf\": 0.04365211801027535, \"cdf\": 0.20662668774682014, \"q\": 200.71009263506778}, {\"x\": 184.99950797714285, \"pdf\": 0.04578708357117828, \"cdf\": 0.22435249875681756, \"q\": 200.71009263506778}, {\"x\": 185.3958387296999, \"pdf\": 0.04785038521014135, \"cdf\": 0.24291087909404424, \"q\": 200.71009263506778}, {\"x\": 185.79216948225695, \"pdf\": 0.04982332304529767, \"cdf\": 0.26226971821765643, \"q\": 200.71009263506778}, {\"x\": 186.188500234814, \"pdf\": 0.051687406015527, \"cdf\": 0.28238952631152425, \"q\": 200.71009263506778}, {\"x\": 186.58483098737105, \"pdf\": 0.05342463695141061, \"cdf\": 0.3032235733700105, \"q\": 200.71009263506778}, {\"x\": 186.9811617399281, \"pdf\": 0.05501779962153984, \"cdf\": 0.3247181418633772, \"q\": 200.71009263506778}, {\"x\": 187.37749249248515, \"pdf\": 0.056450741410019115, \"cdf\": 0.3468128925152081, \"q\": 200.71009263506778}, {\"x\": 187.7738232450422, \"pdf\": 0.05770864516999632, \"cdf\": 0.36944134018176356, \"q\": 200.71009263506778}, {\"x\": 188.17015399759924, \"pdf\": 0.05877828387517043, \"cdf\": 0.3925314342737797, \"q\": 200.71009263506778}, {\"x\": 188.5664847501563, \"pdf\": 0.05964825195984239, \"cdf\": 0.4160062356803203, \"q\": 200.71009263506778}, {\"x\": 188.96281550271334, \"pdf\": 0.06030916769457448, \"cdf\": 0.43978467981733405, \"q\": 200.71009263506778}, {\"x\": 189.3591462552704, \"pdf\": 0.060753841578248424, \"cdf\": 0.4637824133031056, \"q\": 200.71009263506778}, {\"x\": 189.75547700782744, \"pdf\": 0.06097740652083169, \"cdf\": 0.48791268992585507, \"q\": 200.71009263506778}, {\"x\": 190.1518077603845, \"pdf\": 0.06097740652083169, \"cdf\": 0.512087310074145, \"q\": 200.71009263506778}, {\"x\": 190.54813851294153, \"pdf\": 0.060753841578248424, \"cdf\": 0.5362175866968945, \"q\": 200.71009263506778}, {\"x\": 190.94446926549858, \"pdf\": 0.06030916769457448, \"cdf\": 0.560215320182666, \"q\": 200.71009263506778}, {\"x\": 191.34080001805563, \"pdf\": 0.05964825195984239, \"cdf\": 0.5839937643196796, \"q\": 200.71009263506778}, {\"x\": 191.73713077061268, \"pdf\": 0.05877828387517043, \"cdf\": 0.6074685657262203, \"q\": 200.71009263506778}, {\"x\": 192.13346152316973, \"pdf\": 0.05770864516999632, \"cdf\": 0.6305586598182364, \"q\": 200.71009263506778}, {\"x\": 192.52979227572678, \"pdf\": 0.056450741410019115, \"cdf\": 0.6531871074847919, \"q\": 200.71009263506778}, {\"x\": 192.92612302828383, \"pdf\": 0.05501779962153984, \"cdf\": 0.6752818581366228, \"q\": 200.71009263506778}, {\"x\": 193.32245378084087, \"pdf\": 0.05342463695141061, \"cdf\": 0.6967764266299895, \"q\": 200.71009263506778}, {\"x\": 193.71878453339792, \"pdf\": 0.051687406015527, \"cdf\": 0.7176104736884757, \"q\": 200.71009263506778}, {\"x\": 194.11511528595497, \"pdf\": 0.04982332304529767, \"cdf\": 0.7377302817823436, \"q\": 200.71009263506778}, {\"x\": 194.51144603851202, \"pdf\": 0.04785038521014135, \"cdf\": 0.7570891209059558, \"q\": 200.71009263506778}, {\"x\": 194.90777679106907, \"pdf\": 0.04578708357117828, \"cdf\": 0.7756475012431825, \"q\": 200.71009263506778}, {\"x\": 195.30410754362612, \"pdf\": 0.04365211801027535, \"cdf\": 0.7933733122531799, \"q\": 200.71009263506778}, {\"x\": 195.70043829618317, \"pdf\": 0.04146412018949095, \"cdf\": 0.8102418501716753, \"q\": 200.71009263506778}, {\"x\": 196.0967690487402, \"pdf\": 0.03924139014478993, \"cdf\": 0.8262357382383132, \"q\": 200.71009263506778}, {\"x\": 196.49309980129726, \"pdf\": 0.03700165152586465, \"cdf\": 0.841344746068543, \"q\": 200.71009263506778}, {\"x\": 196.8894305538543, \"pdf\": 0.03476182978633057, \"cdf\": 0.8555655164380175, \"q\": 200.71009263506778}, {\"x\": 197.28576130641136, \"pdf\": 0.03253785683372616, \"cdf\": 0.8689012092982702, \"q\": 200.71009263506778}, {\"x\": 197.6820920589684, \"pdf\": 0.030344504796594236, \"cdf\": 0.881361074065861, \"q\": 200.71009263506778}, {\"x\": 198.07842281152546, \"pdf\": 0.028195250686845735, \"cdf\": 0.8929599621065236, \"q\": 200.71009263506778}, {\"x\": 198.4747535640825, \"pdf\": 0.026102172859221878, \"cdf\": 0.9037177918663806, \"q\": 200.71009263506778}, {\"x\": 198.87108431663955, \"pdf\": 0.024075879323710855, \"cdf\": 0.9136589792906258, \"q\": 200.71009263506778}, {\"x\": 199.2674150691966, \"pdf\": 0.022125467176127935, \"cdf\": 0.922811846033339, \"q\": 200.71009263506778}, {\"x\": 199.66374582175365, \"pdf\": 0.020258511698001684, \"cdf\": 0.9312080175265268, \"q\": 200.71009263506778}, {\"x\": 200.0600765743107, \"pdf\": 0.018481083056491047, \"cdf\": 0.9388818222759941, \"q\": 200.71009263506778}, {\"x\": 200.45640732686775, \"pdf\": 0.016797788020806472, \"cdf\": 0.9458697028259528, \"q\": 200.71009263506778}, {\"x\": 200.8527380794248, \"pdf\": 0.015211833711346968, \"cdf\": 0.9522096477271854, \"q\": 200.71009263506778}, {\"x\": 201.24906883198184, \"pdf\": 0.013725110114697242, \"cdf\": 0.9579406526010433, \"q\": 200.71009263506778}, {\"x\": 201.6453995845389, \"pdf\": 0.01233828793059381, \"cdf\": 0.9631022170599302, \"q\": 200.71009263506778}, {\"x\": 202.04173033709594, \"pdf\": 0.011050928260860422, \"cdf\": 0.9677338828693056, \"q\": 200.71009263506778}, {\"x\": 202.438061089653, \"pdf\": 0.00986160069662645, \"cdf\": 0.9718748173590166, \"q\": 200.71009263506778}, {\"x\": 202.83439184221004, \"pdf\": 0.00876800649761545, \"cdf\": 0.9755634447513658, \"q\": 200.71009263506778}, {\"x\": 203.2307225947671, \"pdf\": 0.007767103772596999, \"cdf\": 0.9788371268033039, \"q\": 200.71009263506778}, {\"x\": 203.62705334732414, \"pdf\": 0.00685523184855403, \"cdf\": 0.9817318929884594, \"q\": 200.71009263506778}, {\"x\": 204.02338409988118, \"pdf\": 0.006028232342395117, \"cdf\": 0.9842822193933916, \"q\": 200.71009263506778}, {\"x\": 204.41971485243823, \"pdf\": 0.005281564807797898, \"cdf\": 0.9865208545873749, \"q\": 200.71009263506778}, {\"x\": 204.81604560499528, \"pdf\": 0.004610415206243497, \"cdf\": 0.9884786899561191, \"q\": 200.71009263506778}, {\"x\": 205.21237635755233, \"pdf\": 0.004009795831803392, \"cdf\": 0.9901846713713547, \"q\": 200.71009263506778}, {\"x\": 205.60870711010938, \"pdf\": 0.0034746356915425244, \"cdf\": 0.9916657485993043, \"q\": 200.71009263506778}, {\"x\": 206.00503786266643, \"pdf\": 0.0029998606970321213, \"cdf\": 0.9929468585263103, \"q\": 200.71009263506778}, {\"x\": 206.40136861522348, \"pdf\": 0.002580463348879785, \"cdf\": 0.9940509380901565, \"q\": 200.71009263506778}, {\"x\": 206.79769936778052, \"pdf\": 0.0022115618888525097, \"cdf\": 0.994998962738752, \"q\": 200.71009263506778}, {\"x\": 207.19403012033757, \"pdf\": 0.0018884491485572153, \"cdf\": 0.9958100062794932, \"q\": 200.71009263506778}, {\"x\": 207.59036087289462, \"pdf\": 0.0016066315371257092, \"cdf\": 0.9965013181170524, \"q\": 200.71009263506778}, {\"x\": 207.98669162545167, \"pdf\": 0.0013618587820457236, \"cdf\": 0.9970884140880939, \"q\": 200.71009263506778}, {\"x\": 208.38302237800872, \"pdf\": 0.0011501451678447834, \"cdf\": 0.99758517737203, \"q\": 200.71009263506778}, {\"x\": 208.77935313056577, \"pdf\": 0.0009677831087247854, \"cdf\": 0.9980039662714417, \"q\": 200.71009263506778}, {\"x\": 209.17568388312282, \"pdf\": 0.0008113499464557143, \"cdf\": 0.9983557259992337, \"q\": 200.71009263506778}, {\"x\": 209.57201463567986, \"pdf\": 0.0006777088876345142, \"cdf\": 0.9986501019683699, \"q\": 200.71009263506778}], \"data-b42bb1d8e41d48a62860433f9e4de70c\": [{\"z\": 200.71009263506778}], \"data-aca0edaae1626b36a44a22618509a99c\": [{\"p\": 0.95}]}}, {\"mode\": \"vega-lite\"});\n",
       "</script>"
      ],
      "text/plain": [
       "alt.HConcatChart(...)"
      ]
     },
     "execution_count": 7,
     "metadata": {},
     "output_type": "execute_result"
    }
   ],
   "source": [
    "from mathdistops import qnorm\n",
    "df, fig = qnorm(0.95, mean=adelie_penguins['flipper_length_mm'].mean(),\n",
    "                 std_dev=adelie_penguins['flipper_length_mm'].std())\n",
    "print(df)\n",
    "fig"
   ]
  },
  {
   "cell_type": "markdown",
   "metadata": {},
   "source": [
    "Question 2: What is the flipper length above which could be considered in top 5 percentile for Adelie penguins? \n",
    "\n",
    "Answer: The quantile value for 95-percentile (1-5%) is calculated to be 200.7 mm. The percentile is shown as the horizontal dotted line on the right chart. The CDF chart shows that the corresponding point where the horizontal line intersects with the cumulative distribution curve has a quantile value of 200.7."
   ]
  },
  {
   "cell_type": "markdown",
   "metadata": {},
   "source": [
    "The above example has demonstrated how the self-defined functions can be used to calculate the answers for statistical questions while also visualize the answers simulteneously."
   ]
  }
 ],
 "metadata": {
  "kernelspec": {
   "display_name": "mathdistops",
   "language": "python",
   "name": "python3"
  },
  "language_info": {
   "codemirror_mode": {
    "name": "ipython",
    "version": 3
   },
   "file_extension": ".py",
   "mimetype": "text/x-python",
   "name": "python",
   "nbconvert_exporter": "python",
   "pygments_lexer": "ipython3",
   "version": "3.9.18"
  }
 },
 "nbformat": 4,
 "nbformat_minor": 2
}
