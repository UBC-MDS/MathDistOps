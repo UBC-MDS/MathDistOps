{
    "cells": [
        {
            "cell_type": "markdown",
            "metadata": {},
            "source": [
                "# Mathdistops Package\n",
                "\n",
                "Distributions serve as indispensable tools for modeling existing data, enabling us to handle uncertainty, quantify variability, and make inferential statements. One of the most prevalent distributions is the Normal Distribution, characterized by its mean $\\mu$ and standard deviation $\\sigma$. This distribution is frequently employed to model real-world phenomena characterized by data clustering around a central value, proving particularly valuable in describing the distribution of diverse variables such as heights, weights, test scores, and errors in measurements.\n",
                "\n",
                "Another notable distribution family is the Exponential distribution, tailored for positive random variables often interpreted as the wait time for a specific event. This distribution allows us to model events that occur randomly and independently at a constant rate, such as customer arrivals. The family is defined by a single parameter, typically representing either the mean wait time ($\\beta$ > 0) or its reciprocal, the average rate ($\\lambda$ > 0) at which an event happens.\n",
                "\n",
                "To visualize these distributions, Probability Density Function (PDF) and Cumulative Distribution Function (CDF) are commonly employed. The PDF represents the probability distribution of a continuous random variable, while the CDF, derived from the integral of the PDF, provides the probability that a random variable is less than or equal to a specified value.\n",
                "\n",
                "The functions pexp and pnorm yield the cumulative probability for a specified quantile, whereas the functions qexp and qnorm compute the quantile for a given probability. Additionally, these functions generate plots that depict both the Probability Density Function (PDF) and Cumulative Distribution Function (CDF), providing a visual representation of the cumulative probability associated with a particular quantile. The CDF graph plots the cumulative probability against the specific quantile, while the PDF graph illustrates the cumulative probability up to that quantile through the area under the curve.\n"
            ]
        },
        {
            "cell_type": "markdown",
            "metadata": {},
            "source": []
        }
    ],
    "metadata": {
        "kernelspec": {
            "display_name": "Python 3",
            "language": "python",
            "name": "python3"
        },
        "language_info": {
            "codemirror_mode": {
                "name": "ipython",
                "version": 3
            },
            "file_extension": ".py",
            "mimetype": "text/x-python",
            "name": "python",
            "nbconvert_exporter": "python",
            "pygments_lexer": "ipython3",
            "version": "3.8.5"
        }
    },
    "nbformat": 4,
    "nbformat_minor": 4
}
